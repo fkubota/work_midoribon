{
 "cells": [
  {
   "cell_type": "markdown",
   "metadata": {},
   "source": [
    "# Overview\n",
    "- chapter3: 検定"
   ]
  },
  {
   "cell_type": "code",
   "execution_count": null,
   "metadata": {},
   "outputs": [],
   "source": []
  },
  {
   "cell_type": "markdown",
   "metadata": {},
   "source": [
    "# Params"
   ]
  },
  {
   "cell_type": "code",
   "execution_count": 1,
   "metadata": {},
   "outputs": [],
   "source": [
    "DATA_PATH = './../data/data3.csv'"
   ]
  },
  {
   "cell_type": "markdown",
   "metadata": {},
   "source": [
    "# Import everything I need :)"
   ]
  },
  {
   "cell_type": "code",
   "execution_count": 2,
   "metadata": {},
   "outputs": [],
   "source": [
    "import numpy as np\n",
    "import pandas as pd\n",
    "import matplotlib.pyplot as plt\n",
    "import statsmodels.api as sm"
   ]
  },
  {
   "cell_type": "markdown",
   "metadata": {},
   "source": [
    "# Function"
   ]
  },
  {
   "cell_type": "code",
   "execution_count": null,
   "metadata": {},
   "outputs": [],
   "source": []
  },
  {
   "cell_type": "markdown",
   "metadata": {},
   "source": [
    "# Preparation"
   ]
  },
  {
   "cell_type": "markdown",
   "metadata": {},
   "source": [
    "data"
   ]
  },
  {
   "cell_type": "code",
   "execution_count": 3,
   "metadata": {},
   "outputs": [
    {
     "data": {
      "text/html": [
       "<div>\n",
       "<style scoped>\n",
       "    .dataframe tbody tr th:only-of-type {\n",
       "        vertical-align: middle;\n",
       "    }\n",
       "\n",
       "    .dataframe tbody tr th {\n",
       "        vertical-align: top;\n",
       "    }\n",
       "\n",
       "    .dataframe thead th {\n",
       "        text-align: right;\n",
       "    }\n",
       "</style>\n",
       "<table border=\"1\" class=\"dataframe\">\n",
       "  <thead>\n",
       "    <tr style=\"text-align: right;\">\n",
       "      <th></th>\n",
       "      <th>y</th>\n",
       "      <th>x</th>\n",
       "      <th>f</th>\n",
       "    </tr>\n",
       "  </thead>\n",
       "  <tbody>\n",
       "    <tr>\n",
       "      <th>0</th>\n",
       "      <td>6</td>\n",
       "      <td>8.31</td>\n",
       "      <td>C</td>\n",
       "    </tr>\n",
       "    <tr>\n",
       "      <th>1</th>\n",
       "      <td>6</td>\n",
       "      <td>9.44</td>\n",
       "      <td>C</td>\n",
       "    </tr>\n",
       "    <tr>\n",
       "      <th>2</th>\n",
       "      <td>6</td>\n",
       "      <td>9.50</td>\n",
       "      <td>C</td>\n",
       "    </tr>\n",
       "    <tr>\n",
       "      <th>3</th>\n",
       "      <td>12</td>\n",
       "      <td>9.07</td>\n",
       "      <td>C</td>\n",
       "    </tr>\n",
       "    <tr>\n",
       "      <th>4</th>\n",
       "      <td>10</td>\n",
       "      <td>10.16</td>\n",
       "      <td>C</td>\n",
       "    </tr>\n",
       "  </tbody>\n",
       "</table>\n",
       "</div>"
      ],
      "text/plain": [
       "    y      x  f\n",
       "0   6   8.31  C\n",
       "1   6   9.44  C\n",
       "2   6   9.50  C\n",
       "3  12   9.07  C\n",
       "4  10  10.16  C"
      ]
     },
     "execution_count": 3,
     "metadata": {},
     "output_type": "execute_result"
    }
   ],
   "source": [
    "df = pd.read_csv(DATA_PATH)\n",
    "df.head()"
   ]
  },
  {
   "cell_type": "markdown",
   "metadata": {},
   "source": [
    "---> yが、種子数でこれが教師データ。xが植物のサイズ。fが肥料を与えた(T)または与えていない(C)ことを意味する。\n"
   ]
  },
  {
   "cell_type": "markdown",
   "metadata": {},
   "source": [
    "# Do it\n",
    "\n",
    "- 尤度比検定を使ってサイズ特徴量がモデルの改善に役立っているのかを検証する\n",
    "- 比較するモデルは以下の２つ\n",
    "    - 一定モデル: $\\lambda_i = \\exp{(\\beta_1)}$\n",
    "    - x モデル:  $\\lambda_i = \\exp{(\\beta_1 + \\beta_2 x)}$\n",
    "- モデルは以下のような感じ\n",
    "- 尤度比は以下の式に従う\n",
    "$$\\frac{帰無仮説の最大尤度}{対立仮説の最大尤度} = \\frac{一定モデルの最大尤度: L^*_1}{x モデルの最大尤度: ^*_2}$$\n",
    "\n",
    "- 検定統計量は、尤度比の対数をとったものに-2をかけたもので、これは逸脱度の差になる\n",
    "$$\\Delta D_{1,2} = (-2\\log{L^*_1}) - (-2\\log{L^*_2})$$"
   ]
  },
  {
   "cell_type": "markdown",
   "metadata": {},
   "source": [
    "<br>\n",
    "<br>\n",
    "\n",
    "EDA"
   ]
  },
  {
   "cell_type": "code",
   "execution_count": 4,
   "metadata": {},
   "outputs": [
    {
     "data": {
      "image/png": "[encoded data removed]",
      "text/plain": [
       "<Figure size 432x288 with 1 Axes>"
      ]
     },
     "metadata": {
      "needs_background": "light"
     },
     "output_type": "display_data"
    }
   ],
   "source": [
    "# 散布図\n",
    "plt.scatter(df['x'], df['y'], marker='o', label='C')\n",
    "plt.xlabel('x')\n",
    "plt.ylabel('y')\n",
    "plt.legend()\n",
    "plt.show()"
   ]
  },
  {
   "cell_type": "markdown",
   "metadata": {},
   "source": [
    "<br>\n",
    "<br>\n",
    "\n",
    "## GLM(一定モデル)"
   ]
  },
  {
   "cell_type": "code",
   "execution_count": 5,
   "metadata": {},
   "outputs": [
    {
     "name": "stdout",
     "output_type": "stream",
     "text": [
      "Optimization terminated successfully.\n",
      "         Current function value: 2.376432\n",
      "         Iterations 1\n"
     ]
    },
    {
     "name": "stderr",
     "output_type": "stream",
     "text": [
      "/usr/local/lib/python3.6/dist-packages/numpy/core/fromnumeric.py:2223: FutureWarning: Method .ptp is deprecated and will be removed in a future version. Use numpy.ptp instead.\n",
      "  return ptp(axis=axis, out=out, **kwargs)\n"
     ]
    },
    {
     "data": {
      "text/html": [
       "<table class=\"simpletable\">\n",
       "<caption>Poisson Regression Results</caption>\n",
       "<tr>\n",
       "  <th>Dep. Variable:</th>           <td>y</td>        <th>  No. Observations:  </th>  <td>   100</td> \n",
       "</tr>\n",
       "<tr>\n",
       "  <th>Model:</th>                <td>Poisson</td>     <th>  Df Residuals:      </th>  <td>    99</td> \n",
       "</tr>\n",
       "<tr>\n",
       "  <th>Method:</th>                 <td>MLE</td>       <th>  Df Model:          </th>  <td>     0</td> \n",
       "</tr>\n",
       "<tr>\n",
       "  <th>Date:</th>            <td>Tue, 14 Jan 2020</td> <th>  Pseudo R-squ.:     </th>  <td> 0.000</td> \n",
       "</tr>\n",
       "<tr>\n",
       "  <th>Time:</th>                <td>08:43:29</td>     <th>  Log-Likelihood:    </th> <td> -237.64</td>\n",
       "</tr>\n",
       "<tr>\n",
       "  <th>converged:</th>             <td>True</td>       <th>  LL-Null:           </th> <td> -237.64</td>\n",
       "</tr>\n",
       "<tr>\n",
       "  <th>Covariance Type:</th>     <td>nonrobust</td>    <th>  LLR p-value:       </th>  <td>   nan</td> \n",
       "</tr>\n",
       "</table>\n",
       "<table class=\"simpletable\">\n",
       "<tr>\n",
       "    <td></td>       <th>coef</th>     <th>std err</th>      <th>z</th>      <th>P>|z|</th>  <th>[0.025</th>    <th>0.975]</th>  \n",
       "</tr>\n",
       "<tr>\n",
       "  <th>const</th> <td>    2.0580</td> <td>    0.036</td> <td>   57.586</td> <td> 0.000</td> <td>    1.988</td> <td>    2.128</td>\n",
       "</tr>\n",
       "</table>"
      ],
      "text/plain": [
       "<class 'statsmodels.iolib.summary.Summary'>\n",
       "\"\"\"\n",
       "                          Poisson Regression Results                          \n",
       "==============================================================================\n",
       "Dep. Variable:                      y   No. Observations:                  100\n",
       "Model:                        Poisson   Df Residuals:                       99\n",
       "Method:                           MLE   Df Model:                            0\n",
       "Date:                Tue, 14 Jan 2020   Pseudo R-squ.:                   0.000\n",
       "Time:                        08:43:29   Log-Likelihood:                -237.64\n",
       "converged:                       True   LL-Null:                       -237.64\n",
       "Covariance Type:            nonrobust   LLR p-value:                       nan\n",
       "==============================================================================\n",
       "                 coef    std err          z      P>|z|      [0.025      0.975]\n",
       "------------------------------------------------------------------------------\n",
       "const          2.0580      0.036     57.586      0.000       1.988       2.128\n",
       "==============================================================================\n",
       "\"\"\""
      ]
     },
     "execution_count": 5,
     "metadata": {},
     "output_type": "execute_result"
    }
   ],
   "source": [
    "# results = sm.Poisson(df['y'], sm.add_constant(df[['x']])).fit()\n",
    "const_model_results = sm.Poisson(df['y'], sm.add_constant(df[[]])).fit()\n",
    "const_model_results.summary()"
   ]
  },
  {
   "cell_type": "markdown",
   "metadata": {},
   "source": [
    "<br>\n",
    "\n",
    "逸脱度"
   ]
  },
  {
   "cell_type": "code",
   "execution_count": 6,
   "metadata": {},
   "outputs": [
    {
     "name": "stdout",
     "output_type": "stream",
     "text": [
      "const model deviance: 475.2864426185734\n"
     ]
    }
   ],
   "source": [
    "const_model_deviance = (-2) * const_model_results.llf\n",
    "print(f'const model deviance: {const_model_deviance}')"
   ]
  },
  {
   "cell_type": "markdown",
   "metadata": {},
   "source": [
    "<br>\n",
    "<br>\n",
    "\n",
    "## GLM(xモデル)"
   ]
  },
  {
   "cell_type": "code",
   "execution_count": 7,
   "metadata": {},
   "outputs": [
    {
     "name": "stdout",
     "output_type": "stream",
     "text": [
      "Optimization terminated successfully.\n",
      "         Current function value: 2.353863\n",
      "         Iterations 4\n"
     ]
    },
    {
     "data": {
      "text/html": [
       "<table class=\"simpletable\">\n",
       "<caption>Poisson Regression Results</caption>\n",
       "<tr>\n",
       "  <th>Dep. Variable:</th>           <td>y</td>        <th>  No. Observations:  </th>  <td>   100</td> \n",
       "</tr>\n",
       "<tr>\n",
       "  <th>Model:</th>                <td>Poisson</td>     <th>  Df Residuals:      </th>  <td>    98</td> \n",
       "</tr>\n",
       "<tr>\n",
       "  <th>Method:</th>                 <td>MLE</td>       <th>  Df Model:          </th>  <td>     1</td> \n",
       "</tr>\n",
       "<tr>\n",
       "  <th>Date:</th>            <td>Tue, 14 Jan 2020</td> <th>  Pseudo R-squ.:     </th> <td>0.009497</td>\n",
       "</tr>\n",
       "<tr>\n",
       "  <th>Time:</th>                <td>08:43:29</td>     <th>  Log-Likelihood:    </th> <td> -235.39</td>\n",
       "</tr>\n",
       "<tr>\n",
       "  <th>converged:</th>             <td>True</td>       <th>  LL-Null:           </th> <td> -237.64</td>\n",
       "</tr>\n",
       "<tr>\n",
       "  <th>Covariance Type:</th>     <td>nonrobust</td>    <th>  LLR p-value:       </th>  <td>0.03362</td>\n",
       "</tr>\n",
       "</table>\n",
       "<table class=\"simpletable\">\n",
       "<tr>\n",
       "    <td></td>       <th>coef</th>     <th>std err</th>      <th>z</th>      <th>P>|z|</th>  <th>[0.025</th>    <th>0.975]</th>  \n",
       "</tr>\n",
       "<tr>\n",
       "  <th>const</th> <td>    1.2917</td> <td>    0.364</td> <td>    3.552</td> <td> 0.000</td> <td>    0.579</td> <td>    2.005</td>\n",
       "</tr>\n",
       "<tr>\n",
       "  <th>x</th>     <td>    0.0757</td> <td>    0.036</td> <td>    2.125</td> <td> 0.034</td> <td>    0.006</td> <td>    0.145</td>\n",
       "</tr>\n",
       "</table>"
      ],
      "text/plain": [
       "<class 'statsmodels.iolib.summary.Summary'>\n",
       "\"\"\"\n",
       "                          Poisson Regression Results                          \n",
       "==============================================================================\n",
       "Dep. Variable:                      y   No. Observations:                  100\n",
       "Model:                        Poisson   Df Residuals:                       98\n",
       "Method:                           MLE   Df Model:                            1\n",
       "Date:                Tue, 14 Jan 2020   Pseudo R-squ.:                0.009497\n",
       "Time:                        08:43:29   Log-Likelihood:                -235.39\n",
       "converged:                       True   LL-Null:                       -237.64\n",
       "Covariance Type:            nonrobust   LLR p-value:                   0.03362\n",
       "==============================================================================\n",
       "                 coef    std err          z      P>|z|      [0.025      0.975]\n",
       "------------------------------------------------------------------------------\n",
       "const          1.2917      0.364      3.552      0.000       0.579       2.005\n",
       "x              0.0757      0.036      2.125      0.034       0.006       0.145\n",
       "==============================================================================\n",
       "\"\"\""
      ]
     },
     "execution_count": 7,
     "metadata": {},
     "output_type": "execute_result"
    }
   ],
   "source": [
    "x_model_results = sm.Poisson(df['y'], sm.add_constant(df[['x']])).fit()\n",
    "x_model_results.summary()"
   ]
  },
  {
   "cell_type": "markdown",
   "metadata": {},
   "source": [
    "<br>\n",
    "\n",
    "逸脱度"
   ]
  },
  {
   "cell_type": "code",
   "execution_count": 8,
   "metadata": {},
   "outputs": [
    {
     "name": "stdout",
     "output_type": "stream",
     "text": [
      "x model deviance: 470.7725015397216\n"
     ]
    }
   ],
   "source": [
    "x_model_deviance = (-2) * x_model_results.llf\n",
    "print(f'x model deviance: {x_model_deviance}')"
   ]
  },
  {
   "cell_type": "markdown",
   "metadata": {},
   "source": [
    "<br>\n",
    "<br>\n",
    "\n",
    "逸脱度の差を計算"
   ]
  },
  {
   "cell_type": "code",
   "execution_count": 9,
   "metadata": {},
   "outputs": [
    {
     "name": "stdout",
     "output_type": "stream",
     "text": [
      "deviance delta: const - x = 4.513941078851815\n"
     ]
    }
   ],
   "source": [
    "d = const_model_deviance - x_model_deviance\n",
    "print(f'deviance delta: const - x = {d}')"
   ]
  },
  {
   "cell_type": "markdown",
   "metadata": {},
   "source": [
    "<br>\n",
    "<br>\n",
    "\n",
    "# 検定を行う\n",
    "\n",
    "- 有意水準0.05とする\n",
    "- 上でえられた 統計検定量dがまれに起こるのであれば帰無仮説は棄却される。\n",
    "- 棄却された場合、定数モデルとxモデルの差は優位であると解釈される。\n",
    "- 手順\n",
    "    1. 帰無仮説である一定モデルが正しいものだと仮定する　\n",
    "    2. 観測データに一定モデルを当てはめたとき(MLE)に得られた$\\beta_1$を真のモデルのパラメータとする\n",
    "    3. この真のモデルからデータを何度も生成し、そのたびに $\\beta_2=0$ と $\\beta_2 \\neq0$ のモデルをあてはめれば、たくさんの $\\Delta D_{1,2}$ が得られて、$\\Delta D_{1,2}$ の分布がわかるだろう。\n",
    "- 上記手順3の方法\n",
    "    1. pb法(パラメトリックブートストラップ法): 帰無仮説の元で計算した $\\beta_1$ を使ってポアソン分布を作成し、その分布に従ってデータをランダムに生成する。　\n",
    "    2. $\\chi ^2$ 分布による近似: 逸脱度の差 $\\Delta D_{1,2}$の確率分布は $\\chi ^2$分布で近似できる"
   ]
  },
  {
   "cell_type": "markdown",
   "metadata": {},
   "source": [
    "<br>\n",
    "\n",
    "- pb法による方法\n"
   ]
  },
  {
   "cell_type": "code",
   "execution_count": 10,
   "metadata": {},
   "outputs": [],
   "source": [
    "def pb(data, n, beta1):\n",
    "    # パラメトリックブートストラップ法(PB法)によるP値の計算\n",
    "    const_model_data = data.copy()\n",
    "    pb_d = []\n",
    "\n",
    "    # n個のデータセットからn個の逸脱度の差を計算\n",
    "    for i in range(n):\n",
    "        # 一定モデルから目的変数100個生成\n",
    "        const_model_data['y'] = np.random.poisson(beta1, len(data))\n",
    "\n",
    "        # 逸脱度の差を計算\n",
    "        const_model_llf = sm.Poisson(const_model_data['y'], sm.add_constant(const_model_data[[]])).fit(disp=0).llf\n",
    "        x_model_llf = sm.Poisson(const_model_data['y'], sm.add_constant(const_model_data[['x']])).fit(disp=0).llf\n",
    "#         const_model_llf = smf.poisson('y ~ 1', data=const_model_data).fit(disp=0).llf\n",
    "#         x_model_llf = smf.poisson('y ~ x', data=const_model_data).fit(disp=0).llf\n",
    "        pb_d.append(-2 * (const_model_llf - x_model_llf))\n",
    "        \n",
    "    return pb_d"
   ]
  },
  {
   "cell_type": "code",
   "execution_count": 11,
   "metadata": {},
   "outputs": [],
   "source": [
    "pb_d = pb(df, 1000, beta1=const_model_results.params['const'])"
   ]
  },
  {
   "cell_type": "code",
   "execution_count": 12,
   "metadata": {},
   "outputs": [
    {
     "data": {
      "image/png": "[encoded data removed]",
      "text/plain": [
       "<Figure size 432x288 with 1 Axes>"
      ]
     },
     "metadata": {
      "needs_background": "light"
     },
     "output_type": "display_data"
    }
   ],
   "source": [
    "_ = plt.hist(pb_d, bins=25)"
   ]
  },
  {
   "cell_type": "markdown",
   "metadata": {},
   "source": [
    "<br>\n",
    "\n",
    "calculate p-value"
   ]
  },
  {
   "cell_type": "code",
   "execution_count": 13,
   "metadata": {},
   "outputs": [
    {
     "name": "stdout",
     "output_type": "stream",
     "text": [
      "p-value: 0.046\n"
     ]
    }
   ],
   "source": [
    "p = (pb_d > d).sum() / len(pb_d)\n",
    "print(f'p-value: {p}')"
   ]
  },
  {
   "cell_type": "markdown",
   "metadata": {},
   "source": [
    "---> 棄却された。よって一定モデルとxモデルの差は有意である。"
   ]
  }
 ],
 "metadata": {
  "kernelspec": {
   "display_name": "Python 3",
   "language": "python",
   "name": "python3"
  },
  "language_info": {
   "codemirror_mode": {
    "name": "ipython",
    "version": 3
   },
   "file_extension": ".py",
   "mimetype": "text/x-python",
   "name": "python",
   "nbconvert_exporter": "python",
   "pygments_lexer": "ipython3",
   "version": "3.6.10"
  }
 },
 "nbformat": 4,
 "nbformat_minor": 4
}
